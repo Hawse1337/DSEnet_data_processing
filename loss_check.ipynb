{
 "cells": [
  {
   "cell_type": "code",
   "execution_count": 1,
   "metadata": {},
   "outputs": [],
   "source": [
    "import tensorflow as tf"
   ]
  },
  {
   "cell_type": "code",
   "execution_count": 14,
   "metadata": {},
   "outputs": [],
   "source": [
    "a = [[4,4,4,4],\n",
    "     [4,4,4,4],\n",
    "     [4,4,4,4],\n",
    "     [4,4,4,4]]\n",
    "b = [[5,5,5,5],\n",
    "     [5,5,5,5],\n",
    "     [5,5,5,5],\n",
    "     [5,5,5,5]]\n",
    "\n",
    "# a = [4]\n",
    "# b = [5]"
   ]
  },
  {
   "cell_type": "code",
   "execution_count": 15,
   "metadata": {},
   "outputs": [],
   "source": [
    "a = tf.cast(a,tf.float32)\n",
    "b = tf.cast(b,tf.float32)"
   ]
  },
  {
   "cell_type": "code",
   "execution_count": 16,
   "metadata": {},
   "outputs": [
    {
     "name": "stdout",
     "output_type": "stream",
     "text": [
      "Tensor(\"mean_squared_error_2/value:0\", shape=(), dtype=float32)\n"
     ]
    }
   ],
   "source": [
    "cost = tf.losses.mean_squared_error(a,b)\n",
    "print(cost)"
   ]
  },
  {
   "cell_type": "code",
   "execution_count": 17,
   "metadata": {},
   "outputs": [
    {
     "name": "stdout",
     "output_type": "stream",
     "text": [
      "1.0\n"
     ]
    }
   ],
   "source": [
    "sess = tf.Session()\n",
    "print(sess.run(cost))"
   ]
  },
  {
   "cell_type": "code",
   "execution_count": 18,
   "metadata": {},
   "outputs": [
    {
     "name": "stdout",
     "output_type": "stream",
     "text": [
      "[[1. 1. 1. 1.]\n",
      " [1. 1. 1. 1.]\n",
      " [1. 1. 1. 1.]\n",
      " [1. 1. 1. 1.]]\n",
      "16.0\n",
      "1.0\n"
     ]
    }
   ],
   "source": [
    "cost2 = tf.abs(a-b)\n",
    "print(sess.run(cost2))\n",
    "print(sess.run(tf.reduce_sum(cost2)))\n",
    "print(sess.run(tf.reduce_mean(cost2)))"
   ]
  },
  {
   "cell_type": "code",
   "execution_count": null,
   "metadata": {},
   "outputs": [],
   "source": []
  }
 ],
 "metadata": {
  "kernelspec": {
   "display_name": "tensorflow",
   "language": "python",
   "name": "tensorflow"
  },
  "language_info": {
   "codemirror_mode": {
    "name": "ipython",
    "version": 3
   },
   "file_extension": ".py",
   "mimetype": "text/x-python",
   "name": "python",
   "nbconvert_exporter": "python",
   "pygments_lexer": "ipython3",
   "version": "3.6.6"
  }
 },
 "nbformat": 4,
 "nbformat_minor": 2
}
