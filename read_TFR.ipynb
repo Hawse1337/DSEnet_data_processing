{
 "cells": [
  {
   "cell_type": "code",
   "execution_count": 1,
   "metadata": {},
   "outputs": [],
   "source": [
    "import tensorflow as tf\n",
    "import matplotlib.pyplot as plt"
   ]
  },
  {
   "cell_type": "code",
   "execution_count": 2,
   "metadata": {},
   "outputs": [],
   "source": [
    "def readRecord(tfrecord_filename):\n",
    "    filename_queue = tf.train.string_input_producer([tfrecord_filename])\n",
    "    reader = tf.TFRecordReader()\n",
    "    _, serialized_example = reader.read(filename_queue)\n",
    "    features = tf.parse_single_example(serialized_example,\n",
    "                features={'target_raw' : tf.FixedLenFeature([], tf.string),\n",
    "                          'noisy_m1_raw' : tf.FixedLenFeature([], tf.string),\n",
    "                          'noisy_m2_raw' : tf.FixedLenFeature([], tf.string),})\n",
    "    clean_wave_ = tf.decode_raw(features['target_raw'], tf.float32)\n",
    "    noisy_wave1 = tf.decode_raw(features['noisy_m1_raw'], tf.float32)\n",
    "    noisy_wave2 = tf.decode_raw(features['noisy_m2_raw'], tf.float32)\n",
    "    \n",
    "    clean_wave_.set_shape(16384)#input_size\n",
    "    noisy_wave1.set_shape(16384)\n",
    "    noisy_wave2.set_shape(16384)\n",
    "    \n",
    "    clean_wave = tf.cast(clean_wave_, tf.float32)\n",
    "    noisy_wave1 = tf.cast(noisy_wave1, tf.float32)\n",
    "    noisy_wave2 = tf.cast(noisy_wave2, tf.float32)\n",
    "\n",
    "    return clean_wave,noisy_wave1,noisy_wave2"
   ]
  },
  {
   "cell_type": "code",
   "execution_count": 3,
   "metadata": {},
   "outputs": [],
   "source": [
    "tfrecord_filename_train='./TFR/DSEnet_DATA2_DEMAND_4_test.tfrecords'"
   ]
  },
  {
   "cell_type": "code",
   "execution_count": 4,
   "metadata": {},
   "outputs": [
    {
     "name": "stdout",
     "output_type": "stream",
     "text": [
      "WARNING:tensorflow:From <ipython-input-2-4076106c4f70>:2: string_input_producer (from tensorflow.python.training.input) is deprecated and will be removed in a future version.\n",
      "Instructions for updating:\n",
      "Queue-based input pipelines have been replaced by `tf.data`. Use `tf.data.Dataset.from_tensor_slices(string_tensor).shuffle(tf.shape(input_tensor, out_type=tf.int64)[0]).repeat(num_epochs)`. If `shuffle=False`, omit the `.shuffle(...)`.\n",
      "WARNING:tensorflow:From /home/psh/anaconda3/envs/tensorflow/lib/python3.6/site-packages/tensorflow/python/training/input.py:276: input_producer (from tensorflow.python.training.input) is deprecated and will be removed in a future version.\n",
      "Instructions for updating:\n",
      "Queue-based input pipelines have been replaced by `tf.data`. Use `tf.data.Dataset.from_tensor_slices(input_tensor).shuffle(tf.shape(input_tensor, out_type=tf.int64)[0]).repeat(num_epochs)`. If `shuffle=False`, omit the `.shuffle(...)`.\n",
      "WARNING:tensorflow:From /home/psh/anaconda3/envs/tensorflow/lib/python3.6/site-packages/tensorflow/python/training/input.py:188: limit_epochs (from tensorflow.python.training.input) is deprecated and will be removed in a future version.\n",
      "Instructions for updating:\n",
      "Queue-based input pipelines have been replaced by `tf.data`. Use `tf.data.Dataset.from_tensors(tensor).repeat(num_epochs)`.\n",
      "WARNING:tensorflow:From /home/psh/anaconda3/envs/tensorflow/lib/python3.6/site-packages/tensorflow/python/training/input.py:197: QueueRunner.__init__ (from tensorflow.python.training.queue_runner_impl) is deprecated and will be removed in a future version.\n",
      "Instructions for updating:\n",
      "To construct input pipelines, use the `tf.data` module.\n",
      "WARNING:tensorflow:From /home/psh/anaconda3/envs/tensorflow/lib/python3.6/site-packages/tensorflow/python/training/input.py:197: add_queue_runner (from tensorflow.python.training.queue_runner_impl) is deprecated and will be removed in a future version.\n",
      "Instructions for updating:\n",
      "To construct input pipelines, use the `tf.data` module.\n",
      "WARNING:tensorflow:From <ipython-input-2-4076106c4f70>:3: TFRecordReader.__init__ (from tensorflow.python.ops.io_ops) is deprecated and will be removed in a future version.\n",
      "Instructions for updating:\n",
      "Queue-based input pipelines have been replaced by `tf.data`. Use `tf.data.TFRecordDataset`.\n"
     ]
    }
   ],
   "source": [
    "T_tf_train_,micR_tf_train_,micL_tf_train_ = readRecord(tfrecord_filename_train)\n"
   ]
  },
  {
   "cell_type": "code",
   "execution_count": 5,
   "metadata": {},
   "outputs": [
    {
     "name": "stdout",
     "output_type": "stream",
     "text": [
      "WARNING:tensorflow:From <ipython-input-5-55111484b638>:13: shuffle_batch (from tensorflow.python.training.input) is deprecated and will be removed in a future version.\n",
      "Instructions for updating:\n",
      "Queue-based input pipelines have been replaced by `tf.data`. Use `tf.data.Dataset.shuffle(min_after_dequeue).batch(batch_size)`.\n"
     ]
    }
   ],
   "source": [
    "batch_size = 10\n",
    "tf.set_random_seed(777)\n",
    "\n",
    "\n",
    "batch_T_tf_train_,\\\n",
    "batch_R_tf_train_,\\\n",
    "batch_L_tf_train_ = tf.train.shuffle_batch([T_tf_train_,\n",
    "                                             micR_tf_train_,\n",
    "                                             micL_tf_train_],\n",
    "                                             batch_size=batch_size,\n",
    "                                             num_threads=2,\n",
    "                                             capacity=1000+3*batch_size,\n",
    "                                             min_after_dequeue=batch_size)"
   ]
  },
  {
   "cell_type": "code",
   "execution_count": 6,
   "metadata": {},
   "outputs": [
    {
     "name": "stdout",
     "output_type": "stream",
     "text": [
      "WARNING:tensorflow:From <ipython-input-6-e0911c0bd840>:4: start_queue_runners (from tensorflow.python.training.queue_runner_impl) is deprecated and will be removed in a future version.\n",
      "Instructions for updating:\n",
      "To construct input pipelines, use the `tf.data` module.\n"
     ]
    }
   ],
   "source": [
    "sess = tf.Session()\n",
    "\n",
    "coord = tf.train.Coordinator()\n",
    "tf.train.start_queue_runners(sess=sess,coord=coord)\n",
    "\n",
    "init = tf.global_variables_initializer()\n",
    "sess.run(init)"
   ]
  },
  {
   "cell_type": "code",
   "execution_count": 10,
   "metadata": {},
   "outputs": [],
   "source": [
    "for i in range(100):\n",
    "    batch_T_train,\\\n",
    "    batch_R_train,\\\n",
    "    batch_L_train = sess.run([batch_T_tf_train_,\n",
    "                             batch_R_tf_train_,\n",
    "                             batch_L_tf_train_])"
   ]
  },
  {
   "cell_type": "code",
   "execution_count": 11,
   "metadata": {},
   "outputs": [
    {
     "name": "stdout",
     "output_type": "stream",
     "text": [
      "0.8664928\n"
     ]
    }
   ],
   "source": [
    "print(max(batch_T_train[0]))"
   ]
  },
  {
   "cell_type": "code",
   "execution_count": 12,
   "metadata": {},
   "outputs": [
    {
     "data": {
      "image/png": "[encoded data removed]",
      "text/plain": [
       "<Figure size 432x288 with 1 Axes>"
      ]
     },
     "metadata": {
      "needs_background": "light"
     },
     "output_type": "display_data"
    }
   ],
   "source": [
    "# plt.plot(batch_L_train[0])\n",
    "# plt.plot(batch_R_train[0])\n",
    "plt.plot(batch_T_train[0])\n",
    "plt.show()"
   ]
  },
  {
   "cell_type": "code",
   "execution_count": null,
   "metadata": {},
   "outputs": [],
   "source": []
  }
 ],
 "metadata": {
  "kernelspec": {
   "display_name": "tensorflow",
   "language": "python",
   "name": "tensorflow"
  },
  "language_info": {
   "codemirror_mode": {
    "name": "ipython",
    "version": 3
   },
   "file_extension": ".py",
   "mimetype": "text/x-python",
   "name": "python",
   "nbconvert_exporter": "python",
   "pygments_lexer": "ipython3",
   "version": "3.6.6"
  }
 },
 "nbformat": 4,
 "nbformat_minor": 2
}
