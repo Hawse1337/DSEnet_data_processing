{
 "cells": [
  {
   "cell_type": "code",
   "execution_count": 2,
   "metadata": {},
   "outputs": [],
   "source": [
    "import os\n",
    "import scipy.io.wavfile as wf\n",
    "import random\n",
    "import matplotlib.pyplot as plt"
   ]
  },
  {
   "cell_type": "code",
   "execution_count": 3,
   "metadata": {},
   "outputs": [],
   "source": [
    "def iSNR_control(signal,noise,SNR):\n",
    "    \n",
    "    #now A\n",
    "    A_now = 0\n",
    "    for i in noise :\n",
    "        A_now = A_now + i*i\n",
    "    A_now = np.sqrt(A_now/len(noise))\n",
    "    \n",
    "    #aim A\n",
    "    A_sig = 0\n",
    "    for i in signal :\n",
    "        A_sig = A_sig + i*i\n",
    "    A_sig = np.sqrt(A_sig/len(signal))\n",
    "    \n",
    "    A_aim = A_sig/(10**(SNR/20))\n",
    "    \n",
    "    k = A_aim/A_sig\n",
    "#     print(k)\n",
    "    noise = k*noise\n",
    "    return noise\n",
    "\n",
    "def norm(inp):\n",
    "    M = np.amax(np.absolute(inp))\n",
    "    return inp/M"
   ]
  },
  {
   "cell_type": "code",
   "execution_count": null,
   "metadata": {},
   "outputs": [],
   "source": [
    "LD = os.listdir('./clean_testset_wav_16k')\n",
    "print(len(LD))\n",
    "\n",
    "indx = 0\n",
    "print(LD[0])\n",
    "for f_name in LD[5]:\n",
    "    print(f_name)\n",
    "    SR,clean_wav = wf.read('./clean_testset_wav_16k/%s'%(f_name))"
   ]
  }
 ],
 "metadata": {
  "kernelspec": {
   "display_name": "tensorflow",
   "language": "python",
   "name": "tensorflow"
  },
  "language_info": {
   "codemirror_mode": {
    "name": "ipython",
    "version": 3
   },
   "file_extension": ".py",
   "mimetype": "text/x-python",
   "name": "python",
   "nbconvert_exporter": "python",
   "pygments_lexer": "ipython3",
   "version": "3.6.6"
  }
 },
 "nbformat": 4,
 "nbformat_minor": 2
}
