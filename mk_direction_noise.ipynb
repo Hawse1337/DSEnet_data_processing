{
 "cells": [
  {
   "cell_type": "code",
   "execution_count": 8,
   "metadata": {},
   "outputs": [],
   "source": [
    "import scipy.io.wavfile as wf\n",
    "import numpy as np\n",
    "import os"
   ]
  },
  {
   "cell_type": "code",
   "execution_count": 9,
   "metadata": {},
   "outputs": [],
   "source": [
    "def time_shift(indata,dt,delay):\n",
    "    n=int(delay/dt); dtt=delay-n*dt\n",
    "    buffer_size = len(indata) - abs(n)\n",
    "    # dt-deltaT 만큼 옮길때(T)\n",
    "    od=np.array([]);sp=np.array([]);spp=np.array([])\n",
    "    if dtt>=0:\n",
    "        \n",
    "        if n == 0:\n",
    "            od=np.array(indata)\n",
    "            sp=np.array(indata)\n",
    "        else :\n",
    "            od=np.array(indata[n:])\n",
    "            sp=np.array(indata[0:buffer_size])            \n",
    "        \n",
    "        for i in range(buffer_size):\n",
    "#             print('log4')\n",
    "            if i == 0:\n",
    "                m = (sp[i+1] - sp[i]) / dt\n",
    "                spp=np.append(spp,-m*dtt+sp[i])\n",
    "            else:\n",
    "                mp = (sp[i] - sp[i-1]) / dt\n",
    "                spp=np.append(spp,mp*(dt-dtt)+sp[i-1])\n",
    "    else:\n",
    "        \n",
    "        if n == 0:\n",
    "            od=np.array(indata[:-1])\n",
    "            sp=np.array(indata)\n",
    "        else :\n",
    "            od=np.array(indata[0:buffer_size-1])\n",
    "            sp=np.array(indata[abs(n):])#-1-1:-1])\n",
    "            #print(len(od),'####',len(sp))\n",
    "        \n",
    "        \n",
    "        for i in range(buffer_size):\n",
    "#            print(i)\n",
    "#            print(n)\n",
    "            if i == buffer_size-1:\n",
    "                break\n",
    "            else:\n",
    "                mp = (sp[i+1] - sp[i]) / dt\n",
    "                spp=np.append(spp,mp*abs(dtt)+sp[i])\n",
    "    return od,spp\n",
    "\n",
    "\n",
    "def delay_time(dd):\n",
    "    dt=[]\n",
    "    d = dd*0.01 #m/cm\n",
    "    v = 340 #m/s\n",
    "    rad = np.pi/180\n",
    "    for i in range(36):\n",
    "        delta=d*np.cos(i*10*rad)/v\n",
    "        dt.append(delta)\n",
    "        \n",
    "    return dt\n",
    "\n",
    "def norm(inp):\n",
    "    M = np.amax(np.absolute(inp))\n",
    "    return inp/M\n"
   ]
  },
  {
   "cell_type": "code",
   "execution_count": 10,
   "metadata": {},
   "outputs": [],
   "source": [
    "_,file = wf.read('../DEMAND_DATA_16k/DLIVING/ch01.wav')"
   ]
  },
  {
   "cell_type": "code",
   "execution_count": 11,
   "metadata": {},
   "outputs": [
    {
     "name": "stdout",
     "output_type": "stream",
     "text": [
      "300.004\n"
     ]
    }
   ],
   "source": [
    "print(len(file)/16000)"
   ]
  },
  {
   "cell_type": "code",
   "execution_count": 12,
   "metadata": {},
   "outputs": [
    {
     "name": "stdout",
     "output_type": "stream",
     "text": [
      "['.ipynb_checkpoints', 'CH_test.ipynb', 'DEMAND.pdf', 'DLIVING', 'DWASHING', 'NFIELD', 'NPARK', 'NRIVER', 'OHALLWAY', 'OMEETING', 'OOFFICE', 'PCAFETER', 'PRESTO', 'PSTATION', 'SPSQUARE', 'STRAFFIC', 'TBUS', 'TCAR', 'TMETRO']\n"
     ]
    }
   ],
   "source": [
    "dirs = os.listdir('../DEMAND_DATA_16k')\n",
    "print(dirs)"
   ]
  },
  {
   "cell_type": "code",
   "execution_count": 13,
   "metadata": {},
   "outputs": [
    {
     "name": "stdout",
     "output_type": "stream",
     "text": [
      "../DEMAND_DATA_16k/NRIVER/ch01.wav\n",
      "0\n",
      "log1\n",
      "log2\n"
     ]
    },
    {
     "ename": "KeyboardInterrupt",
     "evalue": "",
     "output_type": "error",
     "traceback": [
      "\u001b[0;31m---------------------------------------------------------------------------\u001b[0m",
      "\u001b[0;31mKeyboardInterrupt\u001b[0m                         Traceback (most recent call last)",
      "\u001b[0;32m<ipython-input-13-90e964bf4ae5>\u001b[0m in \u001b[0;36m<module>\u001b[0;34m\u001b[0m\n\u001b[1;32m     16\u001b[0m                                         \u001b[0mdt\u001b[0m \u001b[0;34m=\u001b[0m \u001b[0mdelay_time\u001b[0m\u001b[0;34m(\u001b[0m\u001b[0;36m1\u001b[0m\u001b[0;34m)\u001b[0m\u001b[0;31m#cm\u001b[0m\u001b[0;34m\u001b[0m\u001b[0m\n\u001b[1;32m     17\u001b[0m                                         \u001b[0mprint\u001b[0m\u001b[0;34m(\u001b[0m\u001b[0;34m'log2'\u001b[0m\u001b[0;34m)\u001b[0m\u001b[0;34m\u001b[0m\u001b[0m\n\u001b[0;32m---> 18\u001b[0;31m                                         \u001b[0mNR\u001b[0m\u001b[0;34m,\u001b[0m\u001b[0mNL\u001b[0m \u001b[0;34m=\u001b[0m \u001b[0mtime_shift\u001b[0m\u001b[0;34m(\u001b[0m\u001b[0mwfile\u001b[0m\u001b[0;34m[\u001b[0m\u001b[0;34m:\u001b[0m\u001b[0;36m16000\u001b[0m\u001b[0;34m*\u001b[0m\u001b[0;36m60\u001b[0m\u001b[0;34m*\u001b[0m\u001b[0;36m1\u001b[0m\u001b[0;34m]\u001b[0m\u001b[0;34m,\u001b[0m\u001b[0;36m1\u001b[0m\u001b[0;34m/\u001b[0m\u001b[0mSR\u001b[0m\u001b[0;34m,\u001b[0m\u001b[0mdt\u001b[0m\u001b[0;34m[\u001b[0m\u001b[0mdirection\u001b[0m\u001b[0;34m]\u001b[0m\u001b[0;34m)\u001b[0m\u001b[0;34m\u001b[0m\u001b[0m\n\u001b[0m\u001b[1;32m     19\u001b[0m                                         \u001b[0mprint\u001b[0m\u001b[0;34m(\u001b[0m\u001b[0;34m'log3'\u001b[0m\u001b[0;34m)\u001b[0m\u001b[0;34m\u001b[0m\u001b[0m\n\u001b[1;32m     20\u001b[0m                                         \u001b[0mwf\u001b[0m\u001b[0;34m.\u001b[0m\u001b[0mwrite\u001b[0m\u001b[0;34m(\u001b[0m\u001b[0;34m'./DEMAND_16k/'\u001b[0m\u001b[0;34m+\u001b[0m\u001b[0mi\u001b[0m\u001b[0;34m+\u001b[0m\u001b[0;34m'_%dd_R.wav'\u001b[0m\u001b[0;34m%\u001b[0m\u001b[0mdirection\u001b[0m\u001b[0;34m,\u001b[0m\u001b[0mSR\u001b[0m\u001b[0;34m,\u001b[0m\u001b[0mnorm\u001b[0m\u001b[0;34m(\u001b[0m\u001b[0mNR\u001b[0m\u001b[0;34m)\u001b[0m\u001b[0;34m)\u001b[0m\u001b[0;34m\u001b[0m\u001b[0m\n",
      "\u001b[0;32m<ipython-input-9-b31e179f9c84>\u001b[0m in \u001b[0;36mtime_shift\u001b[0;34m(indata, dt, delay)\u001b[0m\n\u001b[1;32m     20\u001b[0m             \u001b[0;32melse\u001b[0m\u001b[0;34m:\u001b[0m\u001b[0;34m\u001b[0m\u001b[0m\n\u001b[1;32m     21\u001b[0m                 \u001b[0mmp\u001b[0m \u001b[0;34m=\u001b[0m \u001b[0;34m(\u001b[0m\u001b[0msp\u001b[0m\u001b[0;34m[\u001b[0m\u001b[0mi\u001b[0m\u001b[0;34m]\u001b[0m \u001b[0;34m-\u001b[0m \u001b[0msp\u001b[0m\u001b[0;34m[\u001b[0m\u001b[0mi\u001b[0m\u001b[0;34m-\u001b[0m\u001b[0;36m1\u001b[0m\u001b[0;34m]\u001b[0m\u001b[0;34m)\u001b[0m \u001b[0;34m/\u001b[0m \u001b[0mdt\u001b[0m\u001b[0;34m\u001b[0m\u001b[0m\n\u001b[0;32m---> 22\u001b[0;31m                 \u001b[0mspp\u001b[0m\u001b[0;34m=\u001b[0m\u001b[0mnp\u001b[0m\u001b[0;34m.\u001b[0m\u001b[0mappend\u001b[0m\u001b[0;34m(\u001b[0m\u001b[0mspp\u001b[0m\u001b[0;34m,\u001b[0m\u001b[0mmp\u001b[0m\u001b[0;34m*\u001b[0m\u001b[0;34m(\u001b[0m\u001b[0mdt\u001b[0m\u001b[0;34m-\u001b[0m\u001b[0mdtt\u001b[0m\u001b[0;34m)\u001b[0m\u001b[0;34m+\u001b[0m\u001b[0msp\u001b[0m\u001b[0;34m[\u001b[0m\u001b[0mi\u001b[0m\u001b[0;34m-\u001b[0m\u001b[0;36m1\u001b[0m\u001b[0;34m]\u001b[0m\u001b[0;34m)\u001b[0m\u001b[0;34m\u001b[0m\u001b[0m\n\u001b[0m\u001b[1;32m     23\u001b[0m     \u001b[0;32melse\u001b[0m\u001b[0;34m:\u001b[0m\u001b[0;34m\u001b[0m\u001b[0m\n\u001b[1;32m     24\u001b[0m \u001b[0;34m\u001b[0m\u001b[0m\n",
      "\u001b[0;32m~/anaconda3/envs/tensorflow/lib/python3.6/site-packages/numpy/lib/function_base.py\u001b[0m in \u001b[0;36mappend\u001b[0;34m(arr, values, axis)\u001b[0m\n\u001b[1;32m   5164\u001b[0m         \u001b[0mvalues\u001b[0m \u001b[0;34m=\u001b[0m \u001b[0mravel\u001b[0m\u001b[0;34m(\u001b[0m\u001b[0mvalues\u001b[0m\u001b[0;34m)\u001b[0m\u001b[0;34m\u001b[0m\u001b[0m\n\u001b[1;32m   5165\u001b[0m         \u001b[0maxis\u001b[0m \u001b[0;34m=\u001b[0m \u001b[0marr\u001b[0m\u001b[0;34m.\u001b[0m\u001b[0mndim\u001b[0m\u001b[0;34m-\u001b[0m\u001b[0;36m1\u001b[0m\u001b[0;34m\u001b[0m\u001b[0m\n\u001b[0;32m-> 5166\u001b[0;31m     \u001b[0;32mreturn\u001b[0m \u001b[0mconcatenate\u001b[0m\u001b[0;34m(\u001b[0m\u001b[0;34m(\u001b[0m\u001b[0marr\u001b[0m\u001b[0;34m,\u001b[0m \u001b[0mvalues\u001b[0m\u001b[0;34m)\u001b[0m\u001b[0;34m,\u001b[0m \u001b[0maxis\u001b[0m\u001b[0;34m=\u001b[0m\u001b[0maxis\u001b[0m\u001b[0;34m)\u001b[0m\u001b[0;34m\u001b[0m\u001b[0m\n\u001b[0m",
      "\u001b[0;31mKeyboardInterrupt\u001b[0m: "
     ]
    }
   ],
   "source": [
    "for i in dirs:\n",
    "    if i != '.ipynb_checkpoints' :\n",
    "        if i !='DEMAND.pdf':\n",
    "            if i !='CH_test.ipynb':\n",
    "                if i !='DLIVING':\n",
    "                    if i !='DWASHING':\n",
    "                        if i !='NFIELD':\n",
    "                            if i !='NPARK':\n",
    "                                file = '../DEMAND_DATA_16k/'+i+'/ch01.wav'\n",
    "                                print(file)\n",
    "                                SR,wfile = wf.read(file)\n",
    "                                for direction in range(19):\n",
    "                                    print(direction)\n",
    "                                    if direction != 9:\n",
    "                                        print('log1')\n",
    "                                        dt = delay_time(1)#cm\n",
    "                                        print('log2')\n",
    "                                        NR,NL = time_shift(wfile[:16000*60*1],1/SR,dt[direction])\n",
    "                                        print('log3')\n",
    "                                        wf.write('./DEMAND_16k/'+i+'_%dd_R.wav'%direction,SR,NR)\n",
    "                                        wf.write('./DEMAND_16k/'+i+'_%dd_L.wav'%direction,SR,NL)\n",
    "                                        print(direction)"
   ]
  },
  {
   "cell_type": "code",
   "execution_count": 21,
   "metadata": {},
   "outputs": [
    {
     "name": "stdout",
     "output_type": "stream",
     "text": [
      "0\n",
      "1\n",
      "2\n",
      "3\n",
      "4\n",
      "5\n",
      "6\n",
      "7\n",
      "8\n",
      "10\n",
      "11\n",
      "12\n",
      "13\n",
      "14\n",
      "15\n",
      "16\n",
      "17\n",
      "18\n"
     ]
    }
   ],
   "source": []
  },
  {
   "cell_type": "code",
   "execution_count": null,
   "metadata": {},
   "outputs": [],
   "source": []
  }
 ],
 "metadata": {
  "kernelspec": {
   "display_name": "tensorflow",
   "language": "python",
   "name": "tensorflow"
  },
  "language_info": {
   "codemirror_mode": {
    "name": "ipython",
    "version": 3
   },
   "file_extension": ".py",
   "mimetype": "text/x-python",
   "name": "python",
   "nbconvert_exporter": "python",
   "pygments_lexer": "ipython3",
   "version": "3.6.6"
  }
 },
 "nbformat": 4,
 "nbformat_minor": 2
}
